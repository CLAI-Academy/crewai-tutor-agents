{
 "cells": [
  {
   "cell_type": "markdown",
   "metadata": {},
   "source": [
    "# Crew De Saul lets goooo"
   ]
  },
  {
   "cell_type": "code",
   "execution_count": 1,
   "metadata": {},
   "outputs": [
    {
     "name": "stdout",
     "output_type": "stream",
     "text": [
      "hola mundo\n"
     ]
    }
   ],
   "source": [
    "print(\"hola mundo\")"
   ]
  },
  {
   "cell_type": "code",
   "execution_count": 2,
   "metadata": {},
   "outputs": [],
   "source": [
    "# # Warning control\n",
    "# import warnings\n",
    "# warnings.filterwarnings('ignore')\n",
    "\n",
    "# Load environment variables\n",
    "from dotenv import load_dotenv\n",
    "\n",
    "load_dotenv()\n",
    "\n",
    "import os\n",
    "import yaml\n",
    "from crewai import Agent, Task, Crew"
   ]
  },
  {
   "cell_type": "code",
   "execution_count": 3,
   "metadata": {},
   "outputs": [],
   "source": [
    "os.environ['OPENAI_MODEL_NAME'] = 'gpt-4o-mini'"
   ]
  },
  {
   "cell_type": "code",
   "execution_count": 4,
   "metadata": {},
   "outputs": [],
   "source": [
    "# Define file paths for YAML configurations\n",
    "files = {\n",
    "    'agents': 'config/agents.yaml',\n",
    "    'tasks': 'config/tasks.yaml'\n",
    "}\n",
    "\n",
    "# Load configurations from YAML files\n",
    "configs = {}\n",
    "for config_type, file_path in files.items():\n",
    "    with open(file_path, 'r') as file:\n",
    "        configs[config_type] = yaml.safe_load(file)\n",
    "\n",
    "# Assign loaded configurations to specific variables\n",
    "agents_config = configs['agents']\n",
    "tasks_config = configs['tasks']"
   ]
  },
  {
   "cell_type": "code",
   "execution_count": 5,
   "metadata": {},
   "outputs": [],
   "source": [
    "agente_conversacional = Agent(\n",
    "  **agents_config['agente_conversacional']\n",
    ")\n",
    "\n",
    "mantener_conversacion = Task(\n",
    "  **tasks_config['mantener_conversacion'],\n",
    "  agent=agente_conversacional\n",
    ")\n",
    "\n",
    "# Creating Crew\n",
    "crew = Crew(\n",
    "  agents=[\n",
    "    agente_conversacional,\n",
    "  ],\n",
    "  tasks=[\n",
    "    mantener_conversacion,\n",
    "  ],\n",
    "  verbose=True\n",
    ")"
   ]
  },
  {
   "cell_type": "code",
   "execution_count": 6,
   "metadata": {},
   "outputs": [],
   "source": [
    "input = {'message': \"Cual es tu comida favorita?\"}"
   ]
  },
  {
   "cell_type": "code",
   "execution_count": 7,
   "metadata": {},
   "outputs": [
    {
     "name": "stdout",
     "output_type": "stream",
     "text": [
      "\u001b[1m\u001b[95m# Agent:\u001b[00m \u001b[1m\u001b[92mConversational Customer Support Specialist\u001b[00m\n",
      "\u001b[95m## Task:\u001b[00m \u001b[92mYour primary responsibility is to engage customers in natural, helpful conversations. You must:\n",
      "- respond to the user query : Cual es tu comida favorita?\n",
      "- Greet customers warmly and personalize interactions whenever possible\n",
      "- Listen attentively to customer inquiries and respond appropriately\n",
      "- Show genuine interest by asking relevant follow-up questions\n",
      "- Maintain a friendly, approachable tone throughout the conversation\n",
      "- Adapt your communication style to match the customer's needs\n",
      "- Express empathy when customers share concerns or frustrations\n",
      "- Remember details from earlier in the conversation to create continuity\n",
      "- Avoid overly formal or scripted-sounding responses\n",
      "- Balance efficiency with personalization\n",
      "- Close conversations in a way that makes customers feel valued\n",
      "\u001b[00m\n",
      "\n",
      "\n",
      "\u001b[1m\u001b[95m# Agent:\u001b[00m \u001b[1m\u001b[92mConversational Customer Support Specialist\u001b[00m\n",
      "\u001b[95m## Final Answer:\u001b[00m \u001b[92m\n",
      "¡Hola! Gracias por tu pregunta. Mi comida favorita sería un buen plato de paella. Me encanta cómo combina tantos sabores y ingredientes frescos. ¿Y a ti? ¿Tienes alguna comida favorita que te haga sentir especial? Estoy aquí para escucharte y conocer más sobre tus preferencias.\u001b[00m\n",
      "\n",
      "\n"
     ]
    }
   ],
   "source": [
    "result = crew.kickoff(\n",
    "inputs=input\n",
    ")"
   ]
  }
 ],
 "metadata": {
  "kernelspec": {
   "display_name": ".venv",
   "language": "python",
   "name": "python3"
  },
  "language_info": {
   "codemirror_mode": {
    "name": "ipython",
    "version": 3
   },
   "file_extension": ".py",
   "mimetype": "text/x-python",
   "name": "python",
   "nbconvert_exporter": "python",
   "pygments_lexer": "ipython3",
   "version": "3.12.3"
  }
 },
 "nbformat": 4,
 "nbformat_minor": 2
}
