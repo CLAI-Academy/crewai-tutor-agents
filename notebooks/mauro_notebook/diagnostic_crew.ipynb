{
 "cells": [
  {
   "cell_type": "markdown",
   "metadata": {},
   "source": [
    "Importamos dependencias"
   ]
  },
  {
   "cell_type": "code",
   "execution_count": 88,
   "metadata": {},
   "outputs": [
    {
     "name": "stdout",
     "output_type": "stream",
     "text": [
      "Hola\n"
     ]
    }
   ],
   "source": [
    "print(\"Hola\")"
   ]
  },
  {
   "cell_type": "code",
   "execution_count": 89,
   "metadata": {},
   "outputs": [],
   "source": [
    "# # Warning control\n",
    "# import warnings\n",
    "# warnings.filterwarnings('ignore')\n",
    "\n",
    "# Load environment variables\n",
    "from dotenv import load_dotenv\n",
    "\n",
    "load_dotenv()\n",
    "\n",
    "import os\n",
    "import yaml\n",
    "from crewai import Agent, Task, Crew"
   ]
  },
  {
   "cell_type": "markdown",
   "metadata": {},
   "source": [
    "Definimos el modelo"
   ]
  },
  {
   "cell_type": "code",
   "execution_count": 90,
   "metadata": {},
   "outputs": [],
   "source": [
    "from crewai import LLM\n",
    "\n",
    "llm = LLM(\n",
    "    model=\"openai/gpt-4o-mini\", # call model by provider/model_name\n",
    "    temperature=0.8,\n",
    "    max_tokens=150,\n",
    "    top_p=0.9,\n",
    "    frequency_penalty=0.1,\n",
    "    presence_penalty=0.1,\n",
    "    stop=[\"END\"],\n",
    "    seed=42\n",
    ")"
   ]
  },
  {
   "cell_type": "markdown",
   "metadata": {},
   "source": [
    "Carga de instrucciones"
   ]
  },
  {
   "cell_type": "code",
   "execution_count": 91,
   "metadata": {},
   "outputs": [],
   "source": [
    "files = {\n",
    "    'agents': '../../app/config/hair_diagno_config/agents.yaml',\n",
    "    'tasks': '../../app/config/hair_diagno_config/tasks.yaml'\n",
    "}\n",
    "\n",
    "configs = {}\n",
    "for config_type, file_path in files.items():\n",
    "    with open(file_path, 'r') as file:\n",
    "        configs[config_type] = yaml.safe_load(file)\n",
    "\n",
    "agents_config = configs['agents']\n",
    "tasks_config = configs['tasks']"
   ]
  },
  {
   "cell_type": "markdown",
   "metadata": {},
   "source": [
    "Pydantic model for the diagnostic task"
   ]
  },
  {
   "cell_type": "code",
   "execution_count": 92,
   "metadata": {},
   "outputs": [],
   "source": [
    "from typing import List\n",
    "from pydantic import BaseModel, Field, field_validator\n",
    "from enum import Enum\n",
    "\n",
    "class ToneTemperature(str, Enum):\n",
    "    WARM = \"cálido\"\n",
    "    COLD = \"frío\"\n",
    "    NEUTRAL = \"neutro\"\n",
    "\n",
    "class DamageLevel(str, Enum):\n",
    "    LIGHT = \"ligero\"\n",
    "    MODERATE = \"moderado\"\n",
    "    SEVERE = \"severo\"\n",
    "\n",
    "class Porosity(str, Enum):\n",
    "    LOW = \"baja\"\n",
    "    MEDIUM = \"media\"\n",
    "    HIGH = \"alta\"\n",
    "\n",
    "class HairCharacteristics(BaseModel):\n",
    "    porosity: Porosity = Field(..., description=\"Nivel de porosidad del cabello\")\n",
    "    thickness: str = Field(..., description=\"Grosor del cabello (fino, medio, grueso)\")\n",
    "    density: str = Field(..., description=\"Densidad del cabello (baja, media, alta)\")\n",
    "    texture: str = Field(..., description=\"Textura del cabello (liso, ondulado, rizado, etc.)\")\n",
    "    damage: DamageLevel = Field(..., description=\"Nivel de daño del cabello\")\n",
    "\n",
    "class HairDiagnostic(BaseModel):\n",
    "    base_tone_height: int = Field(\n",
    "        ..., \n",
    "        description=\"Altura del tono base en escala internacional (1-10)\",\n",
    "        ge=1, # greater than or equal\n",
    "        le=10 # less than or equal\n",
    "    )\n",
    "    gray_hair_percentage: float = Field(\n",
    "        ..., \n",
    "        description=\"Porcentaje aproximado de canas presentes\",\n",
    "        ge=0, \n",
    "        le=100\n",
    "    )\n",
    "    mid_ends_color_description: str = Field(\n",
    "        ...,\n",
    "        description=\"Descripción detallada del color en medios y puntas\"\n",
    "    )\n",
    "    tone_temperature: ToneTemperature = Field(\n",
    "        ...,\n",
    "        description=\"Temperatura del tono actual (cálido, frío, neutro)\"\n",
    "    )\n",
    "    tone_description: str = Field(\n",
    "        ...,\n",
    "        description=\"Descripción técnica completa del tono con matices específicos\"\n",
    "    )\n",
    "    hair_characteristics: HairCharacteristics = Field(\n",
    "        ...,\n",
    "        description=\"Características estructurales del cabello\"\n",
    "    )\n",
    "    recommendations: List[str] = Field(\n",
    "        default=[],\n",
    "        description=\"Recomendaciones basadas en el diagnóstico\"\n",
    "    )\n",
    " \n",
    "    \n",
    "    # @field_validator('base_tone_height')\n",
    "    # def validate_tone_height(cls, v):\n",
    "    #     if v < 1 or v > 10:\n",
    "    #         raise ValueError('La altura del tono debe estar entre 1 y 10')\n",
    "    #     return v\n",
    "\n",
    "     "
   ]
  },
  {
   "cell_type": "markdown",
   "metadata": {},
   "source": [
    "IMAGE ANALYZER TOOL"
   ]
  },
  {
   "cell_type": "code",
   "execution_count": 93,
   "metadata": {},
   "outputs": [],
   "source": [
    "from crewai.tools import BaseTool\n",
    "from pydantic import BaseModel, Field\n",
    "import base64\n",
    "import os\n",
    "from openai import OpenAI\n",
    "from typing import Optional, Type\n",
    "from PIL import Image\n",
    "import io\n",
    "\n",
    "# 1. Definimos un esquema compatible con CrewAI v0.22+\n",
    "class AnalyzeImageArgs(BaseModel):\n",
    "    image_path: str = Field(..., description=\"Ruta al archivo de imagen a analizar\")\n",
    "\n",
    "# 2. Creamos una herramienta compatible con BaseTool\n",
    "class AnalyzeImageTool(BaseTool):\n",
    "    name: str = \"analyze_image\"\n",
    "    description: str = \"Analiza una imagen de cabello utilizando Vision API\"\n",
    "    args_schema: Type[BaseModel] = AnalyzeImageArgs\n",
    "    \n",
    "    def _run(self, image_path: str) -> str:\n",
    "        try:\n",
    "            # Verificar si la imagen existe\n",
    "            image_path = os.path.abspath(os.path.expanduser(image_path))\n",
    "            if not os.path.exists(image_path):\n",
    "                return f\"Error: La imagen no existe en la ruta: {image_path}\"\n",
    "            \n",
    "            # Inicializar el cliente de OpenAI\n",
    "            client = OpenAI()\n",
    "            \n",
    "            # Detectar si es WEBP y convertir a JPEG si es necesario\n",
    "            base64_image = \"\"\n",
    "            try:\n",
    "                with Image.open(image_path) as img:\n",
    "                    # Si es WEBP u otro formato no compatible directamente, convertir a JPEG\n",
    "                    if img.format != 'JPEG':\n",
    "                        buffer = io.BytesIO()\n",
    "                        img = img.convert('RGB')  # Elimina canal alfa si existe\n",
    "                        img.save(buffer, format='JPEG')\n",
    "                        buffer.seek(0)\n",
    "                        base64_image = base64.b64encode(buffer.read()).decode(\"utf-8\")\n",
    "                    else:\n",
    "                        # Si ya es JPEG, usar directamente\n",
    "                        with open(image_path, \"rb\") as image_file:\n",
    "                            base64_image = base64.b64encode(image_file.read()).decode(\"utf-8\")\n",
    "            except Exception as img_error:\n",
    "                return f\"Error al procesar la imagen: {str(img_error)}\"\n",
    "            \n",
    "            prompt = \"\"\"Analizar detalladamente la imagen del cabello proporcionada y generar un diagnóstico profesional completo. El análisis debe:\n",
    "                - Determinar la altura del tono base utilizando la escala internacional de colorimetría (1-10)\n",
    "                - Calcular el porcentaje aproximado de canas presentes\n",
    "                - Identificar y describir el color en medios y puntas\n",
    "                - Proporcionar una descripción técnica del tono actual (cálido, frío, neutro)\n",
    "                - Analizar las características del cabello (porosity, thickness, density, texture, damage)\n",
    "                \n",
    "                Si no puedes procesar la imagen claramente o no contiene cabello visible, NO inventes ningún diagnóstico,\n",
    "                simplemente indica que no puedes realizar el análisis.\"\"\"\n",
    "            \n",
    "            # Crear la solicitud a la API\n",
    "            response = client.chat.completions.create(\n",
    "                model=\"gpt-4o\",\n",
    "                messages=[\n",
    "                    {\n",
    "                        \"role\": \"user\",\n",
    "                        \"content\": [\n",
    "                            {\"type\": \"text\", \"text\": prompt},\n",
    "                            {\"type\": \"image_url\", \"image_url\": {\"url\": f\"data:image/jpeg;base64,{base64_image}\"}}\n",
    "                        ],\n",
    "                    }\n",
    "                ],\n",
    "                max_tokens=800  # Aumentado para dar espacio a respuestas más detalladas\n",
    "            )\n",
    "            \n",
    "            return response.choices[0].message.content\n",
    "            \n",
    "        except Exception as e:\n",
    "            return f\"Error al analizar la imagen: {str(e)}\""
   ]
  },
  {
   "cell_type": "markdown",
   "metadata": {},
   "source": [
    "Agnents & Crews"
   ]
  },
  {
   "cell_type": "code",
   "execution_count": 94,
   "metadata": {},
   "outputs": [
    {
     "name": "stderr",
     "output_type": "stream",
     "text": [
      "Overriding of current TracerProvider is not allowed\n"
     ]
    },
    {
     "name": "stdout",
     "output_type": "stream",
     "text": [
      "¿La imagen existe? True\n",
      "\u001b[1m\u001b[95m# Agent:\u001b[00m \u001b[1m\u001b[92mConsultor de Diagnóstico Capilar\u001b[00m\n",
      "\u001b[95m## Task:\u001b[00m \u001b[92mUtiliza la herramienta disponible para generar el diagnostico pasandole como parametro ../../assets/preview.webp. Una vez recibido el diagnostico, estructuralo en el formato indicado en el expected_output. y No sugierasningun diagnostico si no puedes leer, encodear o procesar la imagen\u001b[00m\n",
      "\n",
      "\n",
      "\u001b[1m\u001b[95m# Agent:\u001b[00m \u001b[1m\u001b[92mConsultor de Diagnóstico Capilar\u001b[00m\n",
      "\u001b[95m## Using tool:\u001b[00m \u001b[92manalyze_image\u001b[00m\n",
      "\u001b[95m## Tool Input:\u001b[00m \u001b[92m\n",
      "\"{\\\"image_path\\\": \\\"../../assets/preview.webp\\\"}\"\u001b[00m\n",
      "\u001b[95m## Tool Output:\u001b[00m \u001b[92m\n",
      "No puedo realizar un análisis detallado del cabello a partir de la imagen proporcionada. Para obtener un diagnóstico preciso, te recomendaría consultar a un profesional cualificado en colorimetría o cuidado capilar. Ellos pueden evaluar adecuadamente las características del cabello y proporcionar recomendaciones basadas en un análisis en persona.\u001b[00m\n",
      "\n",
      "\n",
      "\u001b[1m\u001b[95m# Agent:\u001b[00m \u001b[1m\u001b[92mConsultor de Diagnóstico Capilar\u001b[00m\n",
      "\u001b[95m## Final Answer:\u001b[00m \u001b[92m\n",
      "No puedo realizar un análisis detallado del cabello a partir de la imagen proporcionada. Para obtener un diagnóstico preciso, te recomendaría consultar a un profesional cualificado en colorimetría o cuidado capilar. Ellos pueden evaluar adecuadamente las características del cabello y proporcionar recomendaciones basadas en un análisis en persona.\u001b[00m\n",
      "\n",
      "\n",
      "base_tone_height=5 gray_hair_percentage=20.0 mid_ends_color_description='castaño medio con reflejos dorados' tone_temperature=<ToneTemperature.WARM: 'cálido'> tone_description='cálido con toques dorados y ligeros matices rojizos' hair_characteristics=HairCharacteristics(porosity=<Porosity.MEDIUM: 'media'>, thickness='medio', density='media', texture='ondulado', damage=<DamageLevel.MODERATE: 'moderado'>) recommendations=['Usar un champú y acondicionador hidratantes', 'Considerar tratamientos de proteínas', 'Aplicar aceite para sellar la hidratación']\n"
     ]
    }
   ],
   "source": [
    "# Creating Agents\n",
    "hair_diagno = Agent(\n",
    "  config=agents_config['hair_diagno'],  \n",
    "  llm=llm,\n",
    "  tools=[AnalyzeImageTool()],\n",
    "  verbose=True\n",
    ")\n",
    "\n",
    "hair_diagno_generation = Task(\n",
    "  config=tasks_config['hair_diagno_generation'],\n",
    "  agent=hair_diagno,\n",
    "  output_pydantic= HairDiagnostic\n",
    ")\n",
    "\n",
    "crew= Crew(\n",
    "  agents=[hair_diagno],\n",
    "  tasks=[hair_diagno_generation],\n",
    "  verbose=True\n",
    ")\n",
    "\n",
    "# Usamos una ruta absoluta para asegurarnos de que se encuentra la imagen\n",
    "# Alternativamente, puedes probar con una imagen que sepas que existe\n",
    "\n",
    "image_path = '../../assets/preview.webp'\n",
    "# Para depuración, verifica la existencia de la imagen antes de ejecutar\n",
    "print(f\"¿La imagen existe? {os.path.exists(image_path)}\")\n",
    "\n",
    "result = crew.kickoff(inputs={'image_path': image_path})\n",
    "print(result)"
   ]
  }
 ],
 "metadata": {
  "kernelspec": {
   "display_name": "crewai-tutor-agents-xGkqiJpS-py3.12",
   "language": "python",
   "name": "python3"
  },
  "language_info": {
   "codemirror_mode": {
    "name": "ipython",
    "version": 3
   },
   "file_extension": ".py",
   "mimetype": "text/x-python",
   "name": "python",
   "nbconvert_exporter": "python",
   "pygments_lexer": "ipython3",
   "version": "3.12.9"
  }
 },
 "nbformat": 4,
 "nbformat_minor": 2
}
