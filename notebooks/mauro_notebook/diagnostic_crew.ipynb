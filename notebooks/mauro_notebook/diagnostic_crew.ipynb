{
 "cells": [
  {
   "cell_type": "markdown",
   "metadata": {},
   "source": [
    "Importamos dependencias"
   ]
  },
  {
   "cell_type": "code",
   "execution_count": 1,
   "metadata": {},
   "outputs": [
    {
     "name": "stdout",
     "output_type": "stream",
     "text": [
      "Hola\n"
     ]
    }
   ],
   "source": [
    "print(\"Hola\")"
   ]
  },
  {
   "cell_type": "code",
   "execution_count": null,
   "metadata": {},
   "outputs": [],
   "source": [
    "# # Warning control\n",
    "# import warnings\n",
    "# warnings.filterwarnings('ignore')\n",
    "\n",
    "# Load environment variables\n",
    "from dotenv import load_dotenv\n",
    "\n",
    "load_dotenv()\n",
    "\n",
    "import os\n",
    "import yaml\n",
    "from crewai import Agent, Task, Crew"
   ]
  },
  {
   "cell_type": "markdown",
   "metadata": {},
   "source": [
    "Definimos el modelo"
   ]
  },
  {
   "cell_type": "code",
   "execution_count": null,
   "metadata": {},
   "outputs": [],
   "source": [
    "from crewai import LLM\n",
    "\n",
    "llm = LLM(\n",
    "    model=\"openai/gpt-4o-mini\", # call model by provider/model_name\n",
    "    temperature=0.8,\n",
    "    max_tokens=150,\n",
    "    top_p=0.9,\n",
    "    frequency_penalty=0.1,\n",
    "    presence_penalty=0.1,\n",
    "    stop=[\"END\"],\n",
    "    seed=42\n",
    ")"
   ]
  },
  {
   "cell_type": "markdown",
   "metadata": {},
   "source": [
    "Carga de instrucciones"
   ]
  },
  {
   "cell_type": "code",
   "execution_count": null,
   "metadata": {},
   "outputs": [],
   "source": [
    "files = {\n",
    "    'agents': 'config/hair_diagno_config/agents.yaml',\n",
    "    'tasks': 'config/hair_diagno_config/tasks.yaml'\n",
    "}\n",
    "\n",
    "configs = {}\n",
    "for config_type, file_path in files.items():\n",
    "    with open(file_path, 'r') as file:\n",
    "        configs[config_type] = yaml.safe_load(file)\n",
    "\n",
    "agents_config = configs['agents']\n",
    "tasks_config = configs['tasks']"
   ]
  },
  {
   "cell_type": "markdown",
   "metadata": {},
   "source": [
    "Pydantic model for the diagnostic task"
   ]
  },
  {
   "cell_type": "code",
   "execution_count": null,
   "metadata": {},
   "outputs": [],
   "source": [
    "from typing import List\n",
    "from pydantic import BaseModel, Field, field_validator\n",
    "from enum import Enum\n",
    "\n",
    "class ToneTemperature(str, Enum):\n",
    "    WARM = \"cálido\"\n",
    "    COLD = \"frío\"\n",
    "    NEUTRAL = \"neutro\"\n",
    "\n",
    "class DamageLevel(str, Enum):\n",
    "    LIGHT = \"ligero\"\n",
    "    MODERATE = \"moderado\"\n",
    "    SEVERE = \"severo\"\n",
    "\n",
    "class Porosity(str, Enum):\n",
    "    LOW = \"baja\"\n",
    "    MEDIUM = \"media\"\n",
    "    HIGH = \"alta\"\n",
    "\n",
    "class HairCharacteristics(BaseModel):\n",
    "    porosidad: Porosity = Field(..., description=\"Nivel de porosidad del cabello\")\n",
    "    grosor: str = Field(..., description=\"Grosor del cabello (fino, medio, grueso)\")\n",
    "    densidad: str = Field(..., description=\"Densidad del cabello (baja, media, alta)\")\n",
    "    textura: str = Field(..., description=\"Textura del cabello (liso, ondulado, rizado, etc.)\")\n",
    "    nivel_dano: DamageLevel = Field(..., description=\"Nivel de daño del cabello\")\n",
    "\n",
    "class HairDiagnostic(BaseModel):\n",
    "    base_tone_height: int = Field(\n",
    "        ..., \n",
    "        description=\"Altura del tono base en escala internacional (1-10)\",\n",
    "        ge=1, # greater than or equal\n",
    "        le=10 # less than or equal\n",
    "    )\n",
    "    gray_hair_percentage: float = Field(\n",
    "        ..., \n",
    "        description=\"Porcentaje aproximado de canas presentes\",\n",
    "        ge=0, \n",
    "        le=100\n",
    "    )\n",
    "    mid_ends_color_description: str = Field(\n",
    "        ...,\n",
    "        description=\"Descripción detallada del color en medios y puntas\"\n",
    "    )\n",
    "    tone_temperature: ToneTemperature = Field(\n",
    "        ...,\n",
    "        description=\"Temperatura del tono actual (cálido, frío, neutro)\"\n",
    "    )\n",
    "    tone_description: str = Field(\n",
    "        ...,\n",
    "        description=\"Descripción técnica completa del tono con matices específicos\"\n",
    "    )\n",
    "    hair_characteristics: HairCharacteristics = Field(\n",
    "        ...,\n",
    "        description=\"Características estructurales del cabello\"\n",
    "    )\n",
    "    recommendations: List[str] = Field(\n",
    "        default=[],\n",
    "        description=\"Recomendaciones basadas en el diagnóstico\"\n",
    "    )\n",
    " \n",
    "    \n",
    "    @field_validator('base_tone_height')\n",
    "    def validate_tone_height(cls, v):\n",
    "        if v < 1 or v > 10:\n",
    "            raise ValueError('La altura del tono debe estar entre 1 y 10')\n",
    "        return v\n",
    "    \n",
    "    class Config:\n",
    "        schema_extra = {\n",
    "            \"example\": {\n",
    "                \"base_tone_height\": 6,\n",
    "                \"gray_hair_percentage\": 50,\n",
    "                \"mid_ends_color_description\": \"Medios y puntas con decoloración previa a tono 8, presencia de reflejos amarillos intensos\",\n",
    "                \"tone_temperature\": \"cálido\",\n",
    "                \"tone_description\": \"Castaño medio con matices cobrizos y reflejos dorados\",\n",
    "                \"hair_characteristics\": {\n",
    "                    \"porosidad\": \"baja\",\n",
    "                    \"grosor\": \"fino\",\n",
    "                    \"densidad\": \"media\",\n",
    "                    \"textura\": \"ondulado\",\n",
    "                    \"nivel_dano\": \"moderado\"\n",
    "                },\n",
    "                \"recommendations\": [\n",
    "                    \"Tratamiento de restructuración\",\n",
    "                    \"Tinte demi-permanente para nivelar el color\"\n",
    "                ]\n",
    "            }\n",
    "        }"
   ]
  },
  {
   "cell_type": "markdown",
   "metadata": {},
   "source": [
    "Agnents & Crewa"
   ]
  }
 ],
 "metadata": {
  "kernelspec": {
   "display_name": "crewai-tutor-agents-xGkqiJpS-py3.12",
   "language": "python",
   "name": "python3"
  },
  "language_info": {
   "codemirror_mode": {
    "name": "ipython",
    "version": 3
   },
   "file_extension": ".py",
   "mimetype": "text/x-python",
   "name": "python",
   "nbconvert_exporter": "python",
   "pygments_lexer": "ipython3",
   "version": "3.12.9"
  }
 },
 "nbformat": 4,
 "nbformat_minor": 2
}
